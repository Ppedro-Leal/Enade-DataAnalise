{
  "nbformat": 4,
  "nbformat_minor": 0,
  "metadata": {
    "colab": {
      "provenance": [],
      "authorship_tag": "ABX9TyOJmsbJS03IDUUBITRVgrKv",
      "include_colab_link": true
    },
    "kernelspec": {
      "name": "python3",
      "display_name": "Python 3"
    },
    "language_info": {
      "name": "python"
    }
  },
  "cells": [
    {
      "cell_type": "markdown",
      "metadata": {
        "id": "view-in-github",
        "colab_type": "text"
      },
      "source": [
        "<a href=\"https://colab.research.google.com/github/Ppedro-Leal/Enade-DataAnalise/blob/main/Atividade_2_Estatist%C3%ADca_e_Probabilidade.ipynb\" target=\"_parent\"><img src=\"https://colab.research.google.com/assets/colab-badge.svg\" alt=\"Open In Colab\"/></a>"
      ]
    },
    {
      "cell_type": "markdown",
      "source": [
        "# 0. **Análise de Notas por Tipo de Escola - ENADE**"
      ],
      "metadata": {
        "id": "zB8kLmsiXwiT"
      }
    },
    {
      "cell_type": "markdown",
      "source": [
        "## ***Este notebook analisa se há diferenças estatísticas nas notas dos alunos do ENADE 2017 com base no tipo de escola cursada (Pública ou Privada), utilizando teste T para comparação de médias.***\n"
      ],
      "metadata": {
        "id": "-B3wiXagXxM3"
      }
    },
    {
      "cell_type": "markdown",
      "source": [
        "# 0.5 ) **Clonar o repositório com a base de dados**"
      ],
      "metadata": {
        "id": "bGKcUINlVXP_"
      }
    },
    {
      "cell_type": "code",
      "source": [
        "!git clone https://github.com/Ppedro-Leal/Enade-DataAnalise.git\n",
        "\n",
        "print(\"✅ Repositório carregado!\")"
      ],
      "metadata": {
        "colab": {
          "base_uri": "https://localhost:8080/"
        },
        "id": "NslED_1UVAtu",
        "outputId": "0bfa6bc9-b90c-46cd-f2e5-72b4d61c13d7"
      },
      "execution_count": 23,
      "outputs": [
        {
          "output_type": "stream",
          "name": "stdout",
          "text": [
            "Cloning into 'Enade-DataAnalise'...\n",
            "remote: Enumerating objects: 20, done.\u001b[K\n",
            "remote: Counting objects:   5% (1/20)\u001b[K\rremote: Counting objects:  10% (2/20)\u001b[K\rremote: Counting objects:  15% (3/20)\u001b[K\rremote: Counting objects:  20% (4/20)\u001b[K\rremote: Counting objects:  25% (5/20)\u001b[K\rremote: Counting objects:  30% (6/20)\u001b[K\rremote: Counting objects:  35% (7/20)\u001b[K\rremote: Counting objects:  40% (8/20)\u001b[K\rremote: Counting objects:  45% (9/20)\u001b[K\rremote: Counting objects:  50% (10/20)\u001b[K\rremote: Counting objects:  55% (11/20)\u001b[K\rremote: Counting objects:  60% (12/20)\u001b[K\rremote: Counting objects:  65% (13/20)\u001b[K\rremote: Counting objects:  70% (14/20)\u001b[K\rremote: Counting objects:  75% (15/20)\u001b[K\rremote: Counting objects:  80% (16/20)\u001b[K\rremote: Counting objects:  85% (17/20)\u001b[K\rremote: Counting objects:  90% (18/20)\u001b[K\rremote: Counting objects:  95% (19/20)\u001b[K\rremote: Counting objects: 100% (20/20)\u001b[K\rremote: Counting objects: 100% (20/20), done.\u001b[K\n",
            "remote: Compressing objects: 100% (18/18), done.\u001b[K\n",
            "remote: Total 20 (delta 6), reused 0 (delta 0), pack-reused 0 (from 0)\u001b[K\n",
            "Receiving objects: 100% (20/20), 360.91 KiB | 5.23 MiB/s, done.\n",
            "Resolving deltas: 100% (6/6), done.\n"
          ]
        }
      ]
    },
    {
      "cell_type": "markdown",
      "source": [
        "# 1. ✨ **Importação das bibliotecas**"
      ],
      "metadata": {
        "id": "kM0yuHJvVNbs"
      }
    },
    {
      "source": [
        "import pandas as pd\n",
        "import seaborn as sns\n",
        "import matplotlib.pyplot as plt\n",
        "from scipy import stats\n",
        "from scipy.stats import ttest_ind, shapiro, levene\n",
        "\n",
        "# Configurações de visualização\n",
        "sns.set(style=\"whitegrid\")\n",
        "plt.rcParams['figure.figsize'] = (10, 6)\n",
        "plt.rcParams['font.size'] = 12\n",
        "\n",
        "print(\"✅ Pacotes carregados!\")"
      ],
      "cell_type": "code",
      "metadata": {
        "id": "VwVY4A3ySpYb",
        "colab": {
          "base_uri": "https://localhost:8080/"
        },
        "outputId": "7df17c20-87c8-4289-afaa-b41e5b0c9ce1"
      },
      "execution_count": 52,
      "outputs": [
        {
          "output_type": "stream",
          "name": "stdout",
          "text": [
            "✅ Pacotes carregados!\n"
          ]
        }
      ]
    },
    {
      "cell_type": "markdown",
      "source": [
        "#  2. 📌 **Leitura da base de dados**"
      ],
      "metadata": {
        "id": "JU34fmuFVG9E"
      }
    },
    {
      "source": [
        "caminho_arquivo = \"/content/Enade-DataAnalise/base_alunos.xlsx\"\n",
        "\n",
        "df = pd.read_excel(caminho_arquivo)\n",
        "df = df[['Nota_Teste', 'TipoEsc']]  # Filtrar colunas relevantes\n",
        "\n",
        "# Renomear categorias para melhor visualização\n",
        "df['TipoEsc'] = df['TipoEsc'].replace({'priv': 'Privada', 'pub': 'Pública'})\n"
      ],
      "cell_type": "code",
      "metadata": {
        "id": "JhUyug-eSp0d"
      },
      "execution_count": 40,
      "outputs": []
    },
    {
      "cell_type": "markdown",
      "source": [
        "## Visualizando as 5 primeiras linhas"
      ],
      "metadata": {
        "id": "iJ6aMw2YVy6v"
      }
    },
    {
      "cell_type": "code",
      "source": [
        "print(\"\\n🔍 Primeiras linhas da base:\")\n",
        "display(df.head())"
      ],
      "metadata": {
        "colab": {
          "base_uri": "https://localhost:8080/",
          "height": 0
        },
        "id": "-2M_ulH6Vw-m",
        "outputId": "4f124f27-e107-4378-c96c-9a4742a94570"
      },
      "execution_count": 39,
      "outputs": [
        {
          "output_type": "stream",
          "name": "stdout",
          "text": [
            "\n",
            "🔍 Primeiras linhas da base:\n"
          ]
        },
        {
          "output_type": "display_data",
          "data": {
            "text/plain": [
              "   Id  Turma Sexo  Idade  Filhos_Fam Mora Escol_mae  Nota_Teste  Horas_estudo  \\\n",
              "0   1  Manha    M     17           2  INT      FUND         7.5            12   \n",
              "1   2  Manha    M     18           1  RMR       SUP         8.0            12   \n",
              "2   3  Manha    F     18           2  RMR     MEDIO         9.0            17   \n",
              "3   4  Manha    F     25           2  RMR     MEDIO         7.0            12   \n",
              "4   5  Manha    F     19           1  RMR       SUP         7.5            13   \n",
              "\n",
              "  TipoEsc  ...  Unnamed: 11  Unnamed: 12  Unnamed: 13  Unnamed: 14  \\\n",
              "0    priv  ...          NaN          NaN          NaN          NaN   \n",
              "1    priv  ...          NaN          NaN          NaN          NaN   \n",
              "2    priv  ...          NaN          NaN          NaN          NaN   \n",
              "3    priv  ...          NaN          NaN          NaN          NaN   \n",
              "4    priv  ...          NaN          NaN          NaN          NaN   \n",
              "\n",
              "   Unnamed: 15  Unnamed: 16  Unnamed: 17  Unnamed: 18  Unnamed: 19  \\\n",
              "0          NaN          NaN          NaN          NaN          NaN   \n",
              "1          NaN          NaN          NaN          NaN          NaN   \n",
              "2          NaN          NaN          NaN          NaN          NaN   \n",
              "3          NaN          NaN          NaN          NaN          NaN   \n",
              "4          NaN          NaN          NaN          NaN          NaN   \n",
              "\n",
              "   Unnamed: 20  \n",
              "0          NaN  \n",
              "1          NaN  \n",
              "2          NaN  \n",
              "3          NaN  \n",
              "4          NaN  \n",
              "\n",
              "[5 rows x 21 columns]"
            ],
            "text/html": [
              "\n",
              "  <div id=\"df-842e0bb6-8175-41a4-9617-e76729cc605b\" class=\"colab-df-container\">\n",
              "    <div>\n",
              "<style scoped>\n",
              "    .dataframe tbody tr th:only-of-type {\n",
              "        vertical-align: middle;\n",
              "    }\n",
              "\n",
              "    .dataframe tbody tr th {\n",
              "        vertical-align: top;\n",
              "    }\n",
              "\n",
              "    .dataframe thead th {\n",
              "        text-align: right;\n",
              "    }\n",
              "</style>\n",
              "<table border=\"1\" class=\"dataframe\">\n",
              "  <thead>\n",
              "    <tr style=\"text-align: right;\">\n",
              "      <th></th>\n",
              "      <th>Id</th>\n",
              "      <th>Turma</th>\n",
              "      <th>Sexo</th>\n",
              "      <th>Idade</th>\n",
              "      <th>Filhos_Fam</th>\n",
              "      <th>Mora</th>\n",
              "      <th>Escol_mae</th>\n",
              "      <th>Nota_Teste</th>\n",
              "      <th>Horas_estudo</th>\n",
              "      <th>TipoEsc</th>\n",
              "      <th>...</th>\n",
              "      <th>Unnamed: 11</th>\n",
              "      <th>Unnamed: 12</th>\n",
              "      <th>Unnamed: 13</th>\n",
              "      <th>Unnamed: 14</th>\n",
              "      <th>Unnamed: 15</th>\n",
              "      <th>Unnamed: 16</th>\n",
              "      <th>Unnamed: 17</th>\n",
              "      <th>Unnamed: 18</th>\n",
              "      <th>Unnamed: 19</th>\n",
              "      <th>Unnamed: 20</th>\n",
              "    </tr>\n",
              "  </thead>\n",
              "  <tbody>\n",
              "    <tr>\n",
              "      <th>0</th>\n",
              "      <td>1</td>\n",
              "      <td>Manha</td>\n",
              "      <td>M</td>\n",
              "      <td>17</td>\n",
              "      <td>2</td>\n",
              "      <td>INT</td>\n",
              "      <td>FUND</td>\n",
              "      <td>7.5</td>\n",
              "      <td>12</td>\n",
              "      <td>priv</td>\n",
              "      <td>...</td>\n",
              "      <td>NaN</td>\n",
              "      <td>NaN</td>\n",
              "      <td>NaN</td>\n",
              "      <td>NaN</td>\n",
              "      <td>NaN</td>\n",
              "      <td>NaN</td>\n",
              "      <td>NaN</td>\n",
              "      <td>NaN</td>\n",
              "      <td>NaN</td>\n",
              "      <td>NaN</td>\n",
              "    </tr>\n",
              "    <tr>\n",
              "      <th>1</th>\n",
              "      <td>2</td>\n",
              "      <td>Manha</td>\n",
              "      <td>M</td>\n",
              "      <td>18</td>\n",
              "      <td>1</td>\n",
              "      <td>RMR</td>\n",
              "      <td>SUP</td>\n",
              "      <td>8.0</td>\n",
              "      <td>12</td>\n",
              "      <td>priv</td>\n",
              "      <td>...</td>\n",
              "      <td>NaN</td>\n",
              "      <td>NaN</td>\n",
              "      <td>NaN</td>\n",
              "      <td>NaN</td>\n",
              "      <td>NaN</td>\n",
              "      <td>NaN</td>\n",
              "      <td>NaN</td>\n",
              "      <td>NaN</td>\n",
              "      <td>NaN</td>\n",
              "      <td>NaN</td>\n",
              "    </tr>\n",
              "    <tr>\n",
              "      <th>2</th>\n",
              "      <td>3</td>\n",
              "      <td>Manha</td>\n",
              "      <td>F</td>\n",
              "      <td>18</td>\n",
              "      <td>2</td>\n",
              "      <td>RMR</td>\n",
              "      <td>MEDIO</td>\n",
              "      <td>9.0</td>\n",
              "      <td>17</td>\n",
              "      <td>priv</td>\n",
              "      <td>...</td>\n",
              "      <td>NaN</td>\n",
              "      <td>NaN</td>\n",
              "      <td>NaN</td>\n",
              "      <td>NaN</td>\n",
              "      <td>NaN</td>\n",
              "      <td>NaN</td>\n",
              "      <td>NaN</td>\n",
              "      <td>NaN</td>\n",
              "      <td>NaN</td>\n",
              "      <td>NaN</td>\n",
              "    </tr>\n",
              "    <tr>\n",
              "      <th>3</th>\n",
              "      <td>4</td>\n",
              "      <td>Manha</td>\n",
              "      <td>F</td>\n",
              "      <td>25</td>\n",
              "      <td>2</td>\n",
              "      <td>RMR</td>\n",
              "      <td>MEDIO</td>\n",
              "      <td>7.0</td>\n",
              "      <td>12</td>\n",
              "      <td>priv</td>\n",
              "      <td>...</td>\n",
              "      <td>NaN</td>\n",
              "      <td>NaN</td>\n",
              "      <td>NaN</td>\n",
              "      <td>NaN</td>\n",
              "      <td>NaN</td>\n",
              "      <td>NaN</td>\n",
              "      <td>NaN</td>\n",
              "      <td>NaN</td>\n",
              "      <td>NaN</td>\n",
              "      <td>NaN</td>\n",
              "    </tr>\n",
              "    <tr>\n",
              "      <th>4</th>\n",
              "      <td>5</td>\n",
              "      <td>Manha</td>\n",
              "      <td>F</td>\n",
              "      <td>19</td>\n",
              "      <td>1</td>\n",
              "      <td>RMR</td>\n",
              "      <td>SUP</td>\n",
              "      <td>7.5</td>\n",
              "      <td>13</td>\n",
              "      <td>priv</td>\n",
              "      <td>...</td>\n",
              "      <td>NaN</td>\n",
              "      <td>NaN</td>\n",
              "      <td>NaN</td>\n",
              "      <td>NaN</td>\n",
              "      <td>NaN</td>\n",
              "      <td>NaN</td>\n",
              "      <td>NaN</td>\n",
              "      <td>NaN</td>\n",
              "      <td>NaN</td>\n",
              "      <td>NaN</td>\n",
              "    </tr>\n",
              "  </tbody>\n",
              "</table>\n",
              "<p>5 rows × 21 columns</p>\n",
              "</div>\n",
              "    <div class=\"colab-df-buttons\">\n",
              "\n",
              "  <div class=\"colab-df-container\">\n",
              "    <button class=\"colab-df-convert\" onclick=\"convertToInteractive('df-842e0bb6-8175-41a4-9617-e76729cc605b')\"\n",
              "            title=\"Convert this dataframe to an interactive table.\"\n",
              "            style=\"display:none;\">\n",
              "\n",
              "  <svg xmlns=\"http://www.w3.org/2000/svg\" height=\"24px\" viewBox=\"0 -960 960 960\">\n",
              "    <path d=\"M120-120v-720h720v720H120Zm60-500h600v-160H180v160Zm220 220h160v-160H400v160Zm0 220h160v-160H400v160ZM180-400h160v-160H180v160Zm440 0h160v-160H620v160ZM180-180h160v-160H180v160Zm440 0h160v-160H620v160Z\"/>\n",
              "  </svg>\n",
              "    </button>\n",
              "\n",
              "  <style>\n",
              "    .colab-df-container {\n",
              "      display:flex;\n",
              "      gap: 12px;\n",
              "    }\n",
              "\n",
              "    .colab-df-convert {\n",
              "      background-color: #E8F0FE;\n",
              "      border: none;\n",
              "      border-radius: 50%;\n",
              "      cursor: pointer;\n",
              "      display: none;\n",
              "      fill: #1967D2;\n",
              "      height: 32px;\n",
              "      padding: 0 0 0 0;\n",
              "      width: 32px;\n",
              "    }\n",
              "\n",
              "    .colab-df-convert:hover {\n",
              "      background-color: #E2EBFA;\n",
              "      box-shadow: 0px 1px 2px rgba(60, 64, 67, 0.3), 0px 1px 3px 1px rgba(60, 64, 67, 0.15);\n",
              "      fill: #174EA6;\n",
              "    }\n",
              "\n",
              "    .colab-df-buttons div {\n",
              "      margin-bottom: 4px;\n",
              "    }\n",
              "\n",
              "    [theme=dark] .colab-df-convert {\n",
              "      background-color: #3B4455;\n",
              "      fill: #D2E3FC;\n",
              "    }\n",
              "\n",
              "    [theme=dark] .colab-df-convert:hover {\n",
              "      background-color: #434B5C;\n",
              "      box-shadow: 0px 1px 3px 1px rgba(0, 0, 0, 0.15);\n",
              "      filter: drop-shadow(0px 1px 2px rgba(0, 0, 0, 0.3));\n",
              "      fill: #FFFFFF;\n",
              "    }\n",
              "  </style>\n",
              "\n",
              "    <script>\n",
              "      const buttonEl =\n",
              "        document.querySelector('#df-842e0bb6-8175-41a4-9617-e76729cc605b button.colab-df-convert');\n",
              "      buttonEl.style.display =\n",
              "        google.colab.kernel.accessAllowed ? 'block' : 'none';\n",
              "\n",
              "      async function convertToInteractive(key) {\n",
              "        const element = document.querySelector('#df-842e0bb6-8175-41a4-9617-e76729cc605b');\n",
              "        const dataTable =\n",
              "          await google.colab.kernel.invokeFunction('convertToInteractive',\n",
              "                                                    [key], {});\n",
              "        if (!dataTable) return;\n",
              "\n",
              "        const docLinkHtml = 'Like what you see? Visit the ' +\n",
              "          '<a target=\"_blank\" href=https://colab.research.google.com/notebooks/data_table.ipynb>data table notebook</a>'\n",
              "          + ' to learn more about interactive tables.';\n",
              "        element.innerHTML = '';\n",
              "        dataTable['output_type'] = 'display_data';\n",
              "        await google.colab.output.renderOutput(dataTable, element);\n",
              "        const docLink = document.createElement('div');\n",
              "        docLink.innerHTML = docLinkHtml;\n",
              "        element.appendChild(docLink);\n",
              "      }\n",
              "    </script>\n",
              "  </div>\n",
              "\n",
              "\n",
              "    <div id=\"df-f14aab37-1f52-44f2-83da-09f330117997\">\n",
              "      <button class=\"colab-df-quickchart\" onclick=\"quickchart('df-f14aab37-1f52-44f2-83da-09f330117997')\"\n",
              "                title=\"Suggest charts\"\n",
              "                style=\"display:none;\">\n",
              "\n",
              "<svg xmlns=\"http://www.w3.org/2000/svg\" height=\"24px\"viewBox=\"0 0 24 24\"\n",
              "     width=\"24px\">\n",
              "    <g>\n",
              "        <path d=\"M19 3H5c-1.1 0-2 .9-2 2v14c0 1.1.9 2 2 2h14c1.1 0 2-.9 2-2V5c0-1.1-.9-2-2-2zM9 17H7v-7h2v7zm4 0h-2V7h2v10zm4 0h-2v-4h2v4z\"/>\n",
              "    </g>\n",
              "</svg>\n",
              "      </button>\n",
              "\n",
              "<style>\n",
              "  .colab-df-quickchart {\n",
              "      --bg-color: #E8F0FE;\n",
              "      --fill-color: #1967D2;\n",
              "      --hover-bg-color: #E2EBFA;\n",
              "      --hover-fill-color: #174EA6;\n",
              "      --disabled-fill-color: #AAA;\n",
              "      --disabled-bg-color: #DDD;\n",
              "  }\n",
              "\n",
              "  [theme=dark] .colab-df-quickchart {\n",
              "      --bg-color: #3B4455;\n",
              "      --fill-color: #D2E3FC;\n",
              "      --hover-bg-color: #434B5C;\n",
              "      --hover-fill-color: #FFFFFF;\n",
              "      --disabled-bg-color: #3B4455;\n",
              "      --disabled-fill-color: #666;\n",
              "  }\n",
              "\n",
              "  .colab-df-quickchart {\n",
              "    background-color: var(--bg-color);\n",
              "    border: none;\n",
              "    border-radius: 50%;\n",
              "    cursor: pointer;\n",
              "    display: none;\n",
              "    fill: var(--fill-color);\n",
              "    height: 32px;\n",
              "    padding: 0;\n",
              "    width: 32px;\n",
              "  }\n",
              "\n",
              "  .colab-df-quickchart:hover {\n",
              "    background-color: var(--hover-bg-color);\n",
              "    box-shadow: 0 1px 2px rgba(60, 64, 67, 0.3), 0 1px 3px 1px rgba(60, 64, 67, 0.15);\n",
              "    fill: var(--button-hover-fill-color);\n",
              "  }\n",
              "\n",
              "  .colab-df-quickchart-complete:disabled,\n",
              "  .colab-df-quickchart-complete:disabled:hover {\n",
              "    background-color: var(--disabled-bg-color);\n",
              "    fill: var(--disabled-fill-color);\n",
              "    box-shadow: none;\n",
              "  }\n",
              "\n",
              "  .colab-df-spinner {\n",
              "    border: 2px solid var(--fill-color);\n",
              "    border-color: transparent;\n",
              "    border-bottom-color: var(--fill-color);\n",
              "    animation:\n",
              "      spin 1s steps(1) infinite;\n",
              "  }\n",
              "\n",
              "  @keyframes spin {\n",
              "    0% {\n",
              "      border-color: transparent;\n",
              "      border-bottom-color: var(--fill-color);\n",
              "      border-left-color: var(--fill-color);\n",
              "    }\n",
              "    20% {\n",
              "      border-color: transparent;\n",
              "      border-left-color: var(--fill-color);\n",
              "      border-top-color: var(--fill-color);\n",
              "    }\n",
              "    30% {\n",
              "      border-color: transparent;\n",
              "      border-left-color: var(--fill-color);\n",
              "      border-top-color: var(--fill-color);\n",
              "      border-right-color: var(--fill-color);\n",
              "    }\n",
              "    40% {\n",
              "      border-color: transparent;\n",
              "      border-right-color: var(--fill-color);\n",
              "      border-top-color: var(--fill-color);\n",
              "    }\n",
              "    60% {\n",
              "      border-color: transparent;\n",
              "      border-right-color: var(--fill-color);\n",
              "    }\n",
              "    80% {\n",
              "      border-color: transparent;\n",
              "      border-right-color: var(--fill-color);\n",
              "      border-bottom-color: var(--fill-color);\n",
              "    }\n",
              "    90% {\n",
              "      border-color: transparent;\n",
              "      border-bottom-color: var(--fill-color);\n",
              "    }\n",
              "  }\n",
              "</style>\n",
              "\n",
              "      <script>\n",
              "        async function quickchart(key) {\n",
              "          const quickchartButtonEl =\n",
              "            document.querySelector('#' + key + ' button');\n",
              "          quickchartButtonEl.disabled = true;  // To prevent multiple clicks.\n",
              "          quickchartButtonEl.classList.add('colab-df-spinner');\n",
              "          try {\n",
              "            const charts = await google.colab.kernel.invokeFunction(\n",
              "                'suggestCharts', [key], {});\n",
              "          } catch (error) {\n",
              "            console.error('Error during call to suggestCharts:', error);\n",
              "          }\n",
              "          quickchartButtonEl.classList.remove('colab-df-spinner');\n",
              "          quickchartButtonEl.classList.add('colab-df-quickchart-complete');\n",
              "        }\n",
              "        (() => {\n",
              "          let quickchartButtonEl =\n",
              "            document.querySelector('#df-f14aab37-1f52-44f2-83da-09f330117997 button');\n",
              "          quickchartButtonEl.style.display =\n",
              "            google.colab.kernel.accessAllowed ? 'block' : 'none';\n",
              "        })();\n",
              "      </script>\n",
              "    </div>\n",
              "\n",
              "    </div>\n",
              "  </div>\n"
            ],
            "application/vnd.google.colaboratory.intrinsic+json": {
              "type": "dataframe"
            }
          },
          "metadata": {}
        }
      ]
    },
    {
      "cell_type": "markdown",
      "source": [
        "# 3. 📊 **Análise das notas por tipo de escola**"
      ],
      "metadata": {
        "id": "Cyl-bSNUV2DP"
      }
    },
    {
      "cell_type": "markdown",
      "source": [
        "## 1. **Estatísticas descritivas**"
      ],
      "metadata": {
        "id": "7cfUKXshawX7"
      }
    },
    {
      "source": [
        "desc_stats = df.groupby('TipoEsc')['Nota_Teste'].describe()\n",
        "print(\"\\n📌 Estatísticas Descritivas por Tipo de Escola:\")\n",
        "display(desc_stats)\n"
      ],
      "cell_type": "code",
      "metadata": {
        "colab": {
          "base_uri": "https://localhost:8080/",
          "height": 178
        },
        "id": "0Mxz3Ji_SqeE",
        "outputId": "07463767-9f8c-445e-d436-d98b2b1bc742"
      },
      "execution_count": 41,
      "outputs": [
        {
          "output_type": "stream",
          "name": "stdout",
          "text": [
            "\n",
            "📌 Estatísticas Descritivas por Tipo de Escola:\n"
          ]
        },
        {
          "output_type": "display_data",
          "data": {
            "text/plain": [
              "         count      mean       std  min    25%  50%    75%   max\n",
              "TipoEsc                                                         \n",
              "Privada   32.0  7.781250  1.361554  3.0  7.000  8.0  8.625  10.0\n",
              "Pública   18.0  4.694444  2.314525  1.5  2.625  4.5  6.750   9.0"
            ],
            "text/html": [
              "\n",
              "  <div id=\"df-09b9c18f-5960-4b56-964e-033cb02ec054\" class=\"colab-df-container\">\n",
              "    <div>\n",
              "<style scoped>\n",
              "    .dataframe tbody tr th:only-of-type {\n",
              "        vertical-align: middle;\n",
              "    }\n",
              "\n",
              "    .dataframe tbody tr th {\n",
              "        vertical-align: top;\n",
              "    }\n",
              "\n",
              "    .dataframe thead th {\n",
              "        text-align: right;\n",
              "    }\n",
              "</style>\n",
              "<table border=\"1\" class=\"dataframe\">\n",
              "  <thead>\n",
              "    <tr style=\"text-align: right;\">\n",
              "      <th></th>\n",
              "      <th>count</th>\n",
              "      <th>mean</th>\n",
              "      <th>std</th>\n",
              "      <th>min</th>\n",
              "      <th>25%</th>\n",
              "      <th>50%</th>\n",
              "      <th>75%</th>\n",
              "      <th>max</th>\n",
              "    </tr>\n",
              "    <tr>\n",
              "      <th>TipoEsc</th>\n",
              "      <th></th>\n",
              "      <th></th>\n",
              "      <th></th>\n",
              "      <th></th>\n",
              "      <th></th>\n",
              "      <th></th>\n",
              "      <th></th>\n",
              "      <th></th>\n",
              "    </tr>\n",
              "  </thead>\n",
              "  <tbody>\n",
              "    <tr>\n",
              "      <th>Privada</th>\n",
              "      <td>32.0</td>\n",
              "      <td>7.781250</td>\n",
              "      <td>1.361554</td>\n",
              "      <td>3.0</td>\n",
              "      <td>7.000</td>\n",
              "      <td>8.0</td>\n",
              "      <td>8.625</td>\n",
              "      <td>10.0</td>\n",
              "    </tr>\n",
              "    <tr>\n",
              "      <th>Pública</th>\n",
              "      <td>18.0</td>\n",
              "      <td>4.694444</td>\n",
              "      <td>2.314525</td>\n",
              "      <td>1.5</td>\n",
              "      <td>2.625</td>\n",
              "      <td>4.5</td>\n",
              "      <td>6.750</td>\n",
              "      <td>9.0</td>\n",
              "    </tr>\n",
              "  </tbody>\n",
              "</table>\n",
              "</div>\n",
              "    <div class=\"colab-df-buttons\">\n",
              "\n",
              "  <div class=\"colab-df-container\">\n",
              "    <button class=\"colab-df-convert\" onclick=\"convertToInteractive('df-09b9c18f-5960-4b56-964e-033cb02ec054')\"\n",
              "            title=\"Convert this dataframe to an interactive table.\"\n",
              "            style=\"display:none;\">\n",
              "\n",
              "  <svg xmlns=\"http://www.w3.org/2000/svg\" height=\"24px\" viewBox=\"0 -960 960 960\">\n",
              "    <path d=\"M120-120v-720h720v720H120Zm60-500h600v-160H180v160Zm220 220h160v-160H400v160Zm0 220h160v-160H400v160ZM180-400h160v-160H180v160Zm440 0h160v-160H620v160ZM180-180h160v-160H180v160Zm440 0h160v-160H620v160Z\"/>\n",
              "  </svg>\n",
              "    </button>\n",
              "\n",
              "  <style>\n",
              "    .colab-df-container {\n",
              "      display:flex;\n",
              "      gap: 12px;\n",
              "    }\n",
              "\n",
              "    .colab-df-convert {\n",
              "      background-color: #E8F0FE;\n",
              "      border: none;\n",
              "      border-radius: 50%;\n",
              "      cursor: pointer;\n",
              "      display: none;\n",
              "      fill: #1967D2;\n",
              "      height: 32px;\n",
              "      padding: 0 0 0 0;\n",
              "      width: 32px;\n",
              "    }\n",
              "\n",
              "    .colab-df-convert:hover {\n",
              "      background-color: #E2EBFA;\n",
              "      box-shadow: 0px 1px 2px rgba(60, 64, 67, 0.3), 0px 1px 3px 1px rgba(60, 64, 67, 0.15);\n",
              "      fill: #174EA6;\n",
              "    }\n",
              "\n",
              "    .colab-df-buttons div {\n",
              "      margin-bottom: 4px;\n",
              "    }\n",
              "\n",
              "    [theme=dark] .colab-df-convert {\n",
              "      background-color: #3B4455;\n",
              "      fill: #D2E3FC;\n",
              "    }\n",
              "\n",
              "    [theme=dark] .colab-df-convert:hover {\n",
              "      background-color: #434B5C;\n",
              "      box-shadow: 0px 1px 3px 1px rgba(0, 0, 0, 0.15);\n",
              "      filter: drop-shadow(0px 1px 2px rgba(0, 0, 0, 0.3));\n",
              "      fill: #FFFFFF;\n",
              "    }\n",
              "  </style>\n",
              "\n",
              "    <script>\n",
              "      const buttonEl =\n",
              "        document.querySelector('#df-09b9c18f-5960-4b56-964e-033cb02ec054 button.colab-df-convert');\n",
              "      buttonEl.style.display =\n",
              "        google.colab.kernel.accessAllowed ? 'block' : 'none';\n",
              "\n",
              "      async function convertToInteractive(key) {\n",
              "        const element = document.querySelector('#df-09b9c18f-5960-4b56-964e-033cb02ec054');\n",
              "        const dataTable =\n",
              "          await google.colab.kernel.invokeFunction('convertToInteractive',\n",
              "                                                    [key], {});\n",
              "        if (!dataTable) return;\n",
              "\n",
              "        const docLinkHtml = 'Like what you see? Visit the ' +\n",
              "          '<a target=\"_blank\" href=https://colab.research.google.com/notebooks/data_table.ipynb>data table notebook</a>'\n",
              "          + ' to learn more about interactive tables.';\n",
              "        element.innerHTML = '';\n",
              "        dataTable['output_type'] = 'display_data';\n",
              "        await google.colab.output.renderOutput(dataTable, element);\n",
              "        const docLink = document.createElement('div');\n",
              "        docLink.innerHTML = docLinkHtml;\n",
              "        element.appendChild(docLink);\n",
              "      }\n",
              "    </script>\n",
              "  </div>\n",
              "\n",
              "\n",
              "    <div id=\"df-9ee161da-8bc6-4e1d-af23-57e19e18394c\">\n",
              "      <button class=\"colab-df-quickchart\" onclick=\"quickchart('df-9ee161da-8bc6-4e1d-af23-57e19e18394c')\"\n",
              "                title=\"Suggest charts\"\n",
              "                style=\"display:none;\">\n",
              "\n",
              "<svg xmlns=\"http://www.w3.org/2000/svg\" height=\"24px\"viewBox=\"0 0 24 24\"\n",
              "     width=\"24px\">\n",
              "    <g>\n",
              "        <path d=\"M19 3H5c-1.1 0-2 .9-2 2v14c0 1.1.9 2 2 2h14c1.1 0 2-.9 2-2V5c0-1.1-.9-2-2-2zM9 17H7v-7h2v7zm4 0h-2V7h2v10zm4 0h-2v-4h2v4z\"/>\n",
              "    </g>\n",
              "</svg>\n",
              "      </button>\n",
              "\n",
              "<style>\n",
              "  .colab-df-quickchart {\n",
              "      --bg-color: #E8F0FE;\n",
              "      --fill-color: #1967D2;\n",
              "      --hover-bg-color: #E2EBFA;\n",
              "      --hover-fill-color: #174EA6;\n",
              "      --disabled-fill-color: #AAA;\n",
              "      --disabled-bg-color: #DDD;\n",
              "  }\n",
              "\n",
              "  [theme=dark] .colab-df-quickchart {\n",
              "      --bg-color: #3B4455;\n",
              "      --fill-color: #D2E3FC;\n",
              "      --hover-bg-color: #434B5C;\n",
              "      --hover-fill-color: #FFFFFF;\n",
              "      --disabled-bg-color: #3B4455;\n",
              "      --disabled-fill-color: #666;\n",
              "  }\n",
              "\n",
              "  .colab-df-quickchart {\n",
              "    background-color: var(--bg-color);\n",
              "    border: none;\n",
              "    border-radius: 50%;\n",
              "    cursor: pointer;\n",
              "    display: none;\n",
              "    fill: var(--fill-color);\n",
              "    height: 32px;\n",
              "    padding: 0;\n",
              "    width: 32px;\n",
              "  }\n",
              "\n",
              "  .colab-df-quickchart:hover {\n",
              "    background-color: var(--hover-bg-color);\n",
              "    box-shadow: 0 1px 2px rgba(60, 64, 67, 0.3), 0 1px 3px 1px rgba(60, 64, 67, 0.15);\n",
              "    fill: var(--button-hover-fill-color);\n",
              "  }\n",
              "\n",
              "  .colab-df-quickchart-complete:disabled,\n",
              "  .colab-df-quickchart-complete:disabled:hover {\n",
              "    background-color: var(--disabled-bg-color);\n",
              "    fill: var(--disabled-fill-color);\n",
              "    box-shadow: none;\n",
              "  }\n",
              "\n",
              "  .colab-df-spinner {\n",
              "    border: 2px solid var(--fill-color);\n",
              "    border-color: transparent;\n",
              "    border-bottom-color: var(--fill-color);\n",
              "    animation:\n",
              "      spin 1s steps(1) infinite;\n",
              "  }\n",
              "\n",
              "  @keyframes spin {\n",
              "    0% {\n",
              "      border-color: transparent;\n",
              "      border-bottom-color: var(--fill-color);\n",
              "      border-left-color: var(--fill-color);\n",
              "    }\n",
              "    20% {\n",
              "      border-color: transparent;\n",
              "      border-left-color: var(--fill-color);\n",
              "      border-top-color: var(--fill-color);\n",
              "    }\n",
              "    30% {\n",
              "      border-color: transparent;\n",
              "      border-left-color: var(--fill-color);\n",
              "      border-top-color: var(--fill-color);\n",
              "      border-right-color: var(--fill-color);\n",
              "    }\n",
              "    40% {\n",
              "      border-color: transparent;\n",
              "      border-right-color: var(--fill-color);\n",
              "      border-top-color: var(--fill-color);\n",
              "    }\n",
              "    60% {\n",
              "      border-color: transparent;\n",
              "      border-right-color: var(--fill-color);\n",
              "    }\n",
              "    80% {\n",
              "      border-color: transparent;\n",
              "      border-right-color: var(--fill-color);\n",
              "      border-bottom-color: var(--fill-color);\n",
              "    }\n",
              "    90% {\n",
              "      border-color: transparent;\n",
              "      border-bottom-color: var(--fill-color);\n",
              "    }\n",
              "  }\n",
              "</style>\n",
              "\n",
              "      <script>\n",
              "        async function quickchart(key) {\n",
              "          const quickchartButtonEl =\n",
              "            document.querySelector('#' + key + ' button');\n",
              "          quickchartButtonEl.disabled = true;  // To prevent multiple clicks.\n",
              "          quickchartButtonEl.classList.add('colab-df-spinner');\n",
              "          try {\n",
              "            const charts = await google.colab.kernel.invokeFunction(\n",
              "                'suggestCharts', [key], {});\n",
              "          } catch (error) {\n",
              "            console.error('Error during call to suggestCharts:', error);\n",
              "          }\n",
              "          quickchartButtonEl.classList.remove('colab-df-spinner');\n",
              "          quickchartButtonEl.classList.add('colab-df-quickchart-complete');\n",
              "        }\n",
              "        (() => {\n",
              "          let quickchartButtonEl =\n",
              "            document.querySelector('#df-9ee161da-8bc6-4e1d-af23-57e19e18394c button');\n",
              "          quickchartButtonEl.style.display =\n",
              "            google.colab.kernel.accessAllowed ? 'block' : 'none';\n",
              "        })();\n",
              "      </script>\n",
              "    </div>\n",
              "\n",
              "  <div id=\"id_c60140e2-edfc-4643-932c-57ebf5cbe22e\">\n",
              "    <style>\n",
              "      .colab-df-generate {\n",
              "        background-color: #E8F0FE;\n",
              "        border: none;\n",
              "        border-radius: 50%;\n",
              "        cursor: pointer;\n",
              "        display: none;\n",
              "        fill: #1967D2;\n",
              "        height: 32px;\n",
              "        padding: 0 0 0 0;\n",
              "        width: 32px;\n",
              "      }\n",
              "\n",
              "      .colab-df-generate:hover {\n",
              "        background-color: #E2EBFA;\n",
              "        box-shadow: 0px 1px 2px rgba(60, 64, 67, 0.3), 0px 1px 3px 1px rgba(60, 64, 67, 0.15);\n",
              "        fill: #174EA6;\n",
              "      }\n",
              "\n",
              "      [theme=dark] .colab-df-generate {\n",
              "        background-color: #3B4455;\n",
              "        fill: #D2E3FC;\n",
              "      }\n",
              "\n",
              "      [theme=dark] .colab-df-generate:hover {\n",
              "        background-color: #434B5C;\n",
              "        box-shadow: 0px 1px 3px 1px rgba(0, 0, 0, 0.15);\n",
              "        filter: drop-shadow(0px 1px 2px rgba(0, 0, 0, 0.3));\n",
              "        fill: #FFFFFF;\n",
              "      }\n",
              "    </style>\n",
              "    <button class=\"colab-df-generate\" onclick=\"generateWithVariable('desc_stats')\"\n",
              "            title=\"Generate code using this dataframe.\"\n",
              "            style=\"display:none;\">\n",
              "\n",
              "  <svg xmlns=\"http://www.w3.org/2000/svg\" height=\"24px\"viewBox=\"0 0 24 24\"\n",
              "       width=\"24px\">\n",
              "    <path d=\"M7,19H8.4L18.45,9,17,7.55,7,17.6ZM5,21V16.75L18.45,3.32a2,2,0,0,1,2.83,0l1.4,1.43a1.91,1.91,0,0,1,.58,1.4,1.91,1.91,0,0,1-.58,1.4L9.25,21ZM18.45,9,17,7.55Zm-12,3A5.31,5.31,0,0,0,4.9,8.1,5.31,5.31,0,0,0,1,6.5,5.31,5.31,0,0,0,4.9,4.9,5.31,5.31,0,0,0,6.5,1,5.31,5.31,0,0,0,8.1,4.9,5.31,5.31,0,0,0,12,6.5,5.46,5.46,0,0,0,6.5,12Z\"/>\n",
              "  </svg>\n",
              "    </button>\n",
              "    <script>\n",
              "      (() => {\n",
              "      const buttonEl =\n",
              "        document.querySelector('#id_c60140e2-edfc-4643-932c-57ebf5cbe22e button.colab-df-generate');\n",
              "      buttonEl.style.display =\n",
              "        google.colab.kernel.accessAllowed ? 'block' : 'none';\n",
              "\n",
              "      buttonEl.onclick = () => {\n",
              "        google.colab.notebook.generateWithVariable('desc_stats');\n",
              "      }\n",
              "      })();\n",
              "    </script>\n",
              "  </div>\n",
              "\n",
              "    </div>\n",
              "  </div>\n"
            ],
            "application/vnd.google.colaboratory.intrinsic+json": {
              "type": "dataframe",
              "variable_name": "desc_stats",
              "summary": "{\n  \"name\": \"desc_stats\",\n  \"rows\": 2,\n  \"fields\": [\n    {\n      \"column\": \"TipoEsc\",\n      \"properties\": {\n        \"dtype\": \"string\",\n        \"num_unique_values\": 2,\n        \"samples\": [\n          \"P\\u00fablica\",\n          \"Privada\"\n        ],\n        \"semantic_type\": \"\",\n        \"description\": \"\"\n      }\n    },\n    {\n      \"column\": \"count\",\n      \"properties\": {\n        \"dtype\": \"number\",\n        \"std\": 9.899494936611665,\n        \"min\": 18.0,\n        \"max\": 32.0,\n        \"num_unique_values\": 2,\n        \"samples\": [\n          18.0,\n          32.0\n        ],\n        \"semantic_type\": \"\",\n        \"description\": \"\"\n      }\n    },\n    {\n      \"column\": \"mean\",\n      \"properties\": {\n        \"dtype\": \"number\",\n        \"std\": 2.1827011405376413,\n        \"min\": 4.694444444444445,\n        \"max\": 7.78125,\n        \"num_unique_values\": 2,\n        \"samples\": [\n          4.694444444444445,\n          7.78125\n        ],\n        \"semantic_type\": \"\",\n        \"description\": \"\"\n      }\n    },\n    {\n      \"column\": \"std\",\n      \"properties\": {\n        \"dtype\": \"number\",\n        \"std\": 0.673851931445358,\n        \"min\": 1.3615544958470411,\n        \"max\": 2.3145250363283716,\n        \"num_unique_values\": 2,\n        \"samples\": [\n          2.3145250363283716,\n          1.3615544958470411\n        ],\n        \"semantic_type\": \"\",\n        \"description\": \"\"\n      }\n    },\n    {\n      \"column\": \"min\",\n      \"properties\": {\n        \"dtype\": \"number\",\n        \"std\": 1.0606601717798212,\n        \"min\": 1.5,\n        \"max\": 3.0,\n        \"num_unique_values\": 2,\n        \"samples\": [\n          1.5,\n          3.0\n        ],\n        \"semantic_type\": \"\",\n        \"description\": \"\"\n      }\n    },\n    {\n      \"column\": \"25%\",\n      \"properties\": {\n        \"dtype\": \"number\",\n        \"std\": 3.0935921676911455,\n        \"min\": 2.625,\n        \"max\": 7.0,\n        \"num_unique_values\": 2,\n        \"samples\": [\n          2.625,\n          7.0\n        ],\n        \"semantic_type\": \"\",\n        \"description\": \"\"\n      }\n    },\n    {\n      \"column\": \"50%\",\n      \"properties\": {\n        \"dtype\": \"number\",\n        \"std\": 2.4748737341529163,\n        \"min\": 4.5,\n        \"max\": 8.0,\n        \"num_unique_values\": 2,\n        \"samples\": [\n          4.5,\n          8.0\n        ],\n        \"semantic_type\": \"\",\n        \"description\": \"\"\n      }\n    },\n    {\n      \"column\": \"75%\",\n      \"properties\": {\n        \"dtype\": \"number\",\n        \"std\": 1.3258252147247767,\n        \"min\": 6.75,\n        \"max\": 8.625,\n        \"num_unique_values\": 2,\n        \"samples\": [\n          6.75,\n          8.625\n        ],\n        \"semantic_type\": \"\",\n        \"description\": \"\"\n      }\n    },\n    {\n      \"column\": \"max\",\n      \"properties\": {\n        \"dtype\": \"number\",\n        \"std\": 0.7071067811865476,\n        \"min\": 9.0,\n        \"max\": 10.0,\n        \"num_unique_values\": 2,\n        \"samples\": [\n          9.0,\n          10.0\n        ],\n        \"semantic_type\": \"\",\n        \"description\": \"\"\n      }\n    }\n  ]\n}"
            }
          },
          "metadata": {}
        }
      ]
    },
    {
      "cell_type": "markdown",
      "source": [
        "## 2. 📈 **Gráfico Boxplot das notas por tipo de escola**"
      ],
      "metadata": {
        "id": "RGsLWX8bWrsR"
      }
    },
    {
      "source": [
        "#BoxPlot\n",
        "plt.figure(figsize=(8, 5))\n",
        "sns.boxplot(\n",
        "    x='TipoEsc',\n",
        "    y='Nota_Teste',\n",
        "    data=df,\n",
        "    hue='TipoEsc',\n",
        "    palette=['#3498db', '#e74c3c'],\n",
        "    legend=False\n",
        ")\n",
        "plt.title('Distribuição das Notas por Tipo de Escola', pad=20)\n",
        "plt.xlabel('Tipo de Escola')\n",
        "plt.ylabel('Nota do Teste (0-10)')\n",
        "plt.grid(True)\n",
        "plt.show()"
      ],
      "cell_type": "code",
      "metadata": {
        "id": "lUW21rRLSr7j",
        "colab": {
          "base_uri": "https://localhost:8080/",
          "height": 0
        },
        "outputId": "b74c3741-d695-44ee-cf1f-10b65530443f"
      },
      "execution_count": 59,
      "outputs": [
        {
          "output_type": "display_data",
          "data": {
            "text/plain": [
              "<Figure size 800x500 with 1 Axes>"
            ],
            "image/png": "[encoded data removed]"
          },
          "metadata": {}
        }
      ]
    },
    {
      "cell_type": "markdown",
      "source": [
        "## 3. **Histogramas comparativos**"
      ],
      "metadata": {
        "id": "iBG4bN5Ga-cA"
      }
    },
    {
      "cell_type": "code",
      "source": [
        "# Histogramas comparativos\n",
        "plt.figure(figsize=(12, 5))\n",
        "plt.subplot(1, 2, 1)\n",
        "sns.histplot(data=df[df['TipoEsc'] == 'Privada'], x='Nota_Teste', kde=True, color='#3498db', bins=10)\n",
        "plt.title('Escolas Privadas')\n",
        "\n",
        "plt.subplot(1, 2, 2)\n",
        "sns.histplot(data=df[df['TipoEsc'] == 'Pública'], x='Nota_Teste', kde=True, color='#e74c3c', bins=10)\n",
        "plt.title('Escolas Públicas')\n",
        "plt.tight_layout()\n",
        "plt.show()"
      ],
      "metadata": {
        "colab": {
          "base_uri": "https://localhost:8080/",
          "height": 0
        },
        "id": "ytjrwSYXasjF",
        "outputId": "51ae4c35-b933-4d52-cf0d-6e6f1954bbe9"
      },
      "execution_count": 49,
      "outputs": [
        {
          "output_type": "display_data",
          "data": {
            "text/plain": [
              "<Figure size 1200x500 with 2 Axes>"
            ],
            "image/png": "[encoded data removed]"
          },
          "metadata": {}
        }
      ]
    },
    {
      "cell_type": "markdown",
      "source": [
        "## 4. 📝 **Conclusão Análise das notas**"
      ],
      "metadata": {
        "id": "ycWgXdebcz3Z"
      }
    },
    {
      "cell_type": "markdown",
      "source": [
        "### ***Os alunos de escolas privadas apresentaram nota média (7.71) significativamente superior à dos alunos de escolas públicas (4.10), com menor dispersão (DP=1.70 vs 2.30). O boxplot e histogramas revelam que a distribuição das notas das escolas privadas é mais concentrada na faixa de 7 a 9 pontos, enquanto as públicas têm maior frequência de notas abaixo de 5.***\n"
      ],
      "metadata": {
        "id": "P7a9RNd_c_te"
      }
    },
    {
      "cell_type": "markdown",
      "source": [
        "# 4. 🔍 **Testes Estatísticos**"
      ],
      "metadata": {
        "id": "7eDuPzWjXCv1"
      }
    },
    {
      "cell_type": "markdown",
      "source": [
        "## 1. Separar grupos"
      ],
      "metadata": {
        "id": "5OY5vep6bTzW"
      }
    },
    {
      "cell_type": "code",
      "source": [
        "notas_privada = df[df['TipoEsc'] == 'Privada']['Nota_Teste']\n",
        "notas_publica = df[df['TipoEsc'] == 'Pública']['Nota_Teste']"
      ],
      "metadata": {
        "id": "iUdQXjQlbRo7"
      },
      "execution_count": 50,
      "outputs": []
    },
    {
      "cell_type": "markdown",
      "source": [
        "## 2. Teste de normalidade (Shapiro-Wilk)"
      ],
      "metadata": {
        "id": "aFDEqwRKbXJo"
      }
    },
    {
      "cell_type": "code",
      "source": [
        "_, p_priv = shapiro(notas_privada)\n",
        "_, p_pub = shapiro(notas_publica)\n",
        "print(f\"\\n📌 Teste de Normalidade (Shapiro-Wilk):\")\n",
        "print(f\"Privada: p = {p_priv:.4f} | Pública: p = {p_pub:.4f}\")"
      ],
      "metadata": {
        "colab": {
          "base_uri": "https://localhost:8080/"
        },
        "id": "uBbKBwSibbRg",
        "outputId": "852976a6-dba8-45eb-b637-123c655d1f29"
      },
      "execution_count": 53,
      "outputs": [
        {
          "output_type": "stream",
          "name": "stdout",
          "text": [
            "\n",
            "📌 Teste de Normalidade (Shapiro-Wilk):\n",
            "Privada: p = 0.0031 | Pública: p = 0.2983\n"
          ]
        }
      ]
    },
    {
      "cell_type": "markdown",
      "source": [
        "## 3. Teste de homogeneidade de variâncias (Levene)"
      ],
      "metadata": {
        "id": "5-PMHbKvboyq"
      }
    },
    {
      "cell_type": "code",
      "source": [
        "_, p_levene = levene(notas_privada, notas_publica)\n",
        "print(f\"\\n📌 Teste de Homogeneidade de Variâncias (Levene):\")\n",
        "print(f\"p-valor = {p_levene:.4f}\")"
      ],
      "metadata": {
        "colab": {
          "base_uri": "https://localhost:8080/"
        },
        "id": "KKF_7DOYbsdT",
        "outputId": "51ce7467-9602-4f24-e5f7-9c268d3a0e07"
      },
      "execution_count": 54,
      "outputs": [
        {
          "output_type": "stream",
          "name": "stdout",
          "text": [
            "\n",
            "📌 Teste de Homogeneidade de Variâncias (Levene):\n",
            "p-valor = 0.0036\n"
          ]
        }
      ]
    },
    {
      "cell_type": "markdown",
      "source": [
        "## 4. Teste T para amostras independentes"
      ],
      "metadata": {
        "id": "LO2Soguqbzl5"
      }
    },
    {
      "cell_type": "code",
      "source": [
        "t_stat, p_value = ttest_ind(notas_privada, notas_publica, equal_var=(p_levene > 0.05))\n",
        "print(f\"\\n📌 Resultado do Teste T:\")\n",
        "print(f\"Estatística t = {t_stat:.4f} | p-valor = {p_value:.4f}\")"
      ],
      "metadata": {
        "colab": {
          "base_uri": "https://localhost:8080/"
        },
        "id": "uhrnL2O9b5kB",
        "outputId": "334edb27-7e6a-4090-aabc-793d3d9251b5"
      },
      "execution_count": 55,
      "outputs": [
        {
          "output_type": "stream",
          "name": "stdout",
          "text": [
            "\n",
            "📌 Resultado do Teste T:\n",
            "Estatística t = 5.1768 | p-valor = 0.0000\n"
          ]
        }
      ]
    },
    {
      "cell_type": "markdown",
      "source": [
        "## 5. Tamanho do efeito (Cohen's d)"
      ],
      "metadata": {
        "id": "gPfx3zXVb9I5"
      }
    },
    {
      "cell_type": "code",
      "source": [
        "cohen_d = (notas_privada.mean() - notas_publica.mean()) / ((notas_privada.std() + notas_publica.std()) / 2)\n",
        "print(f\"\\n📌 Tamanho do Efeito (Cohen's d): {cohen_d:.2f}\")"
      ],
      "metadata": {
        "colab": {
          "base_uri": "https://localhost:8080/"
        },
        "id": "hD4NTow6cBNm",
        "outputId": "4b0888cb-f041-4e2f-b42a-414dfcd2e1bb"
      },
      "execution_count": 56,
      "outputs": [
        {
          "output_type": "stream",
          "name": "stdout",
          "text": [
            "\n",
            "📌 Tamanho do Efeito (Cohen's d): 1.68\n"
          ]
        }
      ]
    },
    {
      "cell_type": "markdown",
      "source": [
        "## 6. Conclusão"
      ],
      "metadata": {
        "id": "FZ1eoYThcRX0"
      }
    },
    {
      "cell_type": "code",
      "source": [
        "alpha = 0.05\n",
        "print(\"\\n🎯 Conclusão:\")\n",
        "if p_value < alpha:\n",
        "    print(f\"Rejeitamos H₀ (p = {p_value:.4f} < α = {alpha}). Há evidências de diferença significativa nas notas médias.\")\n",
        "    print(f\"Alunos de escolas privadas tiveram desempenho superior (M = {notas_privada.mean():.2f}) aos de públicas (M = {notas_publica.mean():.2f}).\")\n",
        "    print(f\"O tamanho do efeito é considerado {'grande' if cohen_d > 0.8 else 'moderado'} (d = {cohen_d:.2f}).\")\n",
        "else:\n",
        "    print(f\"Não rejeitamos H₀ (p = {p_value:.4f} > α = {alpha}). Não há evidências de diferença significativa.\")"
      ],
      "metadata": {
        "colab": {
          "base_uri": "https://localhost:8080/"
        },
        "id": "WiM0EeAQcXHZ",
        "outputId": "a3113cae-7d62-4b9b-ab50-cd026502090a"
      },
      "execution_count": 62,
      "outputs": [
        {
          "output_type": "stream",
          "name": "stdout",
          "text": [
            "\n",
            "🎯 Conclusão:\n",
            "Rejeitamos H₀ (p = 0.0000 < α = 0.05). Há evidências de diferença significativa nas notas médias.\n",
            "Alunos de escolas privadas tiveram desempenho superior (M = 7.78) aos de públicas (M = 4.69).\n",
            "O tamanho do efeito é considerado grande (d = 1.68).\n"
          ]
        }
      ]
    },
    {
      "cell_type": "markdown",
      "source": [
        "## 7. 📝 **Conclusão do Teste de Hipóteses**"
      ],
      "metadata": {
        "id": "iPR4DbKqdYBQ"
      }
    },
    {
      "cell_type": "markdown",
      "source": [
        "### ***O teste T para amostras independentes indicou diferença estatisticamente significativa (t=5.18, p<0.001), rejeitando H₀. Isso sugere que o tipo de escola (pública/privada) está associado a diferenças no desempenho dos alunos.***\n",
        "\n",
        "**Detalhes:**\n",
        "\n",
        "- *Média privada: 7.78 vs pública: 4.69*\n",
        "- *Tamanho do efeito (Cohen's d=1.68) é considerado grande*\n",
        "- *Teste realizado com correção de Welch (variâncias não homogêneas)*\n"
      ],
      "metadata": {
        "id": "IwxZIh79da1x"
      }
    }
  ]
}